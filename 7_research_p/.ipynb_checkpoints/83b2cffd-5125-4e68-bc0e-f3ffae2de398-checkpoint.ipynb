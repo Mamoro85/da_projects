{
 "cells": [
  {
   "cell_type": "markdown",
   "metadata": {},
   "source": [
    "#  Введение"
   ]
  },
  {
   "cell_type": "markdown",
   "metadata": {},
   "source": [
    "Мы решили открыть небольшое кафе в Москве. Оно оригинальное — гостей должны обслуживать роботы. Проект многообещающий, но дорогой. Вместе с партнёрами мы решились обратиться к инвесторам. Их интересует текущее положение дел на рынке — сможем ли мы снискать популярность на долгое время, когда все зеваки насмотрятся на роботов-официантов?"
   ]
  },
  {
   "cell_type": "markdown",
   "metadata": {},
   "source": [
    "Партнёры попросили подготовить исследование рынка. В наличии открытые данные о заведениях общественного питания в Москве. На них мы и посмотрим."
   ]
  },
  {
   "cell_type": "markdown",
   "metadata": {},
   "source": [
    "Для начала импортируем необходимые библиотеки:"
   ]
  },
  {
   "cell_type": "code",
   "execution_count": 7,
   "metadata": {},
   "outputs": [],
   "source": [
    "import pandas as pd\n",
    "import numpy as np\n",
    "import matplotlib.pyplot as plt\n",
    "import seaborn as sns\n",
    "import datetime as dt\n",
    "import scipy.stats as stats"
   ]
  },
  {
   "cell_type": "markdown",
   "metadata": {},
   "source": [
    "# Шаг 1"
   ]
  },
  {
   "cell_type": "markdown",
   "metadata": {},
   "source": [
    "Загрузим имеющейся датасет:"
   ]
  },
  {
   "cell_type": "code",
   "execution_count": 8,
   "metadata": {},
   "outputs": [],
   "source": [
    "rest_data = pd.read_csv('/datasets/rest_data.csv') "
   ]
  },
  {
   "cell_type": "code",
   "execution_count": 9,
   "metadata": {},
   "outputs": [
    {
     "data": {
      "text/html": [
       "<div>\n",
       "<style scoped>\n",
       "    .dataframe tbody tr th:only-of-type {\n",
       "        vertical-align: middle;\n",
       "    }\n",
       "\n",
       "    .dataframe tbody tr th {\n",
       "        vertical-align: top;\n",
       "    }\n",
       "\n",
       "    .dataframe thead th {\n",
       "        text-align: right;\n",
       "    }\n",
       "</style>\n",
       "<table border=\"1\" class=\"dataframe\">\n",
       "  <thead>\n",
       "    <tr style=\"text-align: right;\">\n",
       "      <th></th>\n",
       "      <th>id</th>\n",
       "      <th>object_name</th>\n",
       "      <th>chain</th>\n",
       "      <th>object_type</th>\n",
       "      <th>address</th>\n",
       "      <th>number</th>\n",
       "    </tr>\n",
       "  </thead>\n",
       "  <tbody>\n",
       "    <tr>\n",
       "      <td>0</td>\n",
       "      <td>151635</td>\n",
       "      <td>СМЕТАНА</td>\n",
       "      <td>нет</td>\n",
       "      <td>кафе</td>\n",
       "      <td>город Москва, улица Егора Абакумова, дом 9</td>\n",
       "      <td>48</td>\n",
       "    </tr>\n",
       "    <tr>\n",
       "      <td>1</td>\n",
       "      <td>77874</td>\n",
       "      <td>Родник</td>\n",
       "      <td>нет</td>\n",
       "      <td>кафе</td>\n",
       "      <td>город Москва, улица Талалихина, дом 2/1, корпус 1</td>\n",
       "      <td>35</td>\n",
       "    </tr>\n",
       "    <tr>\n",
       "      <td>2</td>\n",
       "      <td>24309</td>\n",
       "      <td>Кафе «Академия»</td>\n",
       "      <td>нет</td>\n",
       "      <td>кафе</td>\n",
       "      <td>город Москва, Абельмановская улица, дом 6</td>\n",
       "      <td>95</td>\n",
       "    </tr>\n",
       "    <tr>\n",
       "      <td>3</td>\n",
       "      <td>21894</td>\n",
       "      <td>ПИЦЦЕТОРИЯ</td>\n",
       "      <td>да</td>\n",
       "      <td>кафе</td>\n",
       "      <td>город Москва, Абрамцевская улица, дом 1</td>\n",
       "      <td>40</td>\n",
       "    </tr>\n",
       "    <tr>\n",
       "      <td>4</td>\n",
       "      <td>119365</td>\n",
       "      <td>Кафе «Вишневая метель»</td>\n",
       "      <td>нет</td>\n",
       "      <td>кафе</td>\n",
       "      <td>город Москва, Абрамцевская улица, дом 9, корпус 1</td>\n",
       "      <td>50</td>\n",
       "    </tr>\n",
       "  </tbody>\n",
       "</table>\n",
       "</div>"
      ],
      "text/plain": [
       "       id             object_name chain object_type  \\\n",
       "0  151635                 СМЕТАНА   нет        кафе   \n",
       "1   77874                  Родник   нет        кафе   \n",
       "2   24309         Кафе «Академия»   нет        кафе   \n",
       "3   21894              ПИЦЦЕТОРИЯ    да        кафе   \n",
       "4  119365  Кафе «Вишневая метель»   нет        кафе   \n",
       "\n",
       "                                             address  number  \n",
       "0         город Москва, улица Егора Абакумова, дом 9      48  \n",
       "1  город Москва, улица Талалихина, дом 2/1, корпус 1      35  \n",
       "2          город Москва, Абельмановская улица, дом 6      95  \n",
       "3            город Москва, Абрамцевская улица, дом 1      40  \n",
       "4  город Москва, Абрамцевская улица, дом 9, корпус 1      50  "
      ]
     },
     "execution_count": 9,
     "metadata": {},
     "output_type": "execute_result"
    }
   ],
   "source": [
    "rest_data.head()"
   ]
  },
  {
   "cell_type": "code",
   "execution_count": 10,
   "metadata": {},
   "outputs": [
    {
     "data": {
      "text/html": [
       "<div>\n",
       "<style scoped>\n",
       "    .dataframe tbody tr th:only-of-type {\n",
       "        vertical-align: middle;\n",
       "    }\n",
       "\n",
       "    .dataframe tbody tr th {\n",
       "        vertical-align: top;\n",
       "    }\n",
       "\n",
       "    .dataframe thead th {\n",
       "        text-align: right;\n",
       "    }\n",
       "</style>\n",
       "<table border=\"1\" class=\"dataframe\">\n",
       "  <thead>\n",
       "    <tr style=\"text-align: right;\">\n",
       "      <th></th>\n",
       "      <th>id</th>\n",
       "      <th>object_name</th>\n",
       "      <th>chain</th>\n",
       "      <th>object_type</th>\n",
       "      <th>address</th>\n",
       "      <th>number</th>\n",
       "    </tr>\n",
       "  </thead>\n",
       "  <tbody>\n",
       "    <tr>\n",
       "      <td>15361</td>\n",
       "      <td>208537</td>\n",
       "      <td>Шоколадница</td>\n",
       "      <td>да</td>\n",
       "      <td>кафе</td>\n",
       "      <td>город Москва, 3-й Крутицкий переулок, дом 18</td>\n",
       "      <td>50</td>\n",
       "    </tr>\n",
       "    <tr>\n",
       "      <td>15362</td>\n",
       "      <td>209264</td>\n",
       "      <td>Шоколадница</td>\n",
       "      <td>да</td>\n",
       "      <td>кафе</td>\n",
       "      <td>город Москва, улица Земляной Вал, дом 33</td>\n",
       "      <td>10</td>\n",
       "    </tr>\n",
       "    <tr>\n",
       "      <td>15363</td>\n",
       "      <td>209186</td>\n",
       "      <td>Шоколадница</td>\n",
       "      <td>да</td>\n",
       "      <td>кафе</td>\n",
       "      <td>город Москва, улица Земляной Вал, дом 33</td>\n",
       "      <td>20</td>\n",
       "    </tr>\n",
       "    <tr>\n",
       "      <td>15364</td>\n",
       "      <td>221900</td>\n",
       "      <td>Шоколадница</td>\n",
       "      <td>да</td>\n",
       "      <td>кафе</td>\n",
       "      <td>город Москва, поселение Московский, Киевское ш...</td>\n",
       "      <td>36</td>\n",
       "    </tr>\n",
       "    <tr>\n",
       "      <td>15365</td>\n",
       "      <td>222535</td>\n",
       "      <td>Шоколадница</td>\n",
       "      <td>да</td>\n",
       "      <td>кафе</td>\n",
       "      <td>город Москва, Ходынский бульвар, дом 4</td>\n",
       "      <td>10</td>\n",
       "    </tr>\n",
       "  </tbody>\n",
       "</table>\n",
       "</div>"
      ],
      "text/plain": [
       "           id  object_name chain object_type  \\\n",
       "15361  208537  Шоколадница    да        кафе   \n",
       "15362  209264  Шоколадница    да        кафе   \n",
       "15363  209186  Шоколадница    да        кафе   \n",
       "15364  221900  Шоколадница    да        кафе   \n",
       "15365  222535  Шоколадница    да        кафе   \n",
       "\n",
       "                                                 address  number  \n",
       "15361       город Москва, 3-й Крутицкий переулок, дом 18      50  \n",
       "15362           город Москва, улица Земляной Вал, дом 33      10  \n",
       "15363           город Москва, улица Земляной Вал, дом 33      20  \n",
       "15364  город Москва, поселение Московский, Киевское ш...      36  \n",
       "15365             город Москва, Ходынский бульвар, дом 4      10  "
      ]
     },
     "execution_count": 10,
     "metadata": {},
     "output_type": "execute_result"
    }
   ],
   "source": [
    "rest_data.tail()"
   ]
  },
  {
   "cell_type": "code",
   "execution_count": 11,
   "metadata": {},
   "outputs": [
    {
     "data": {
      "text/html": [
       "<div>\n",
       "<style scoped>\n",
       "    .dataframe tbody tr th:only-of-type {\n",
       "        vertical-align: middle;\n",
       "    }\n",
       "\n",
       "    .dataframe tbody tr th {\n",
       "        vertical-align: top;\n",
       "    }\n",
       "\n",
       "    .dataframe thead th {\n",
       "        text-align: right;\n",
       "    }\n",
       "</style>\n",
       "<table border=\"1\" class=\"dataframe\">\n",
       "  <thead>\n",
       "    <tr style=\"text-align: right;\">\n",
       "      <th></th>\n",
       "      <th>id</th>\n",
       "      <th>object_name</th>\n",
       "      <th>chain</th>\n",
       "      <th>object_type</th>\n",
       "      <th>address</th>\n",
       "      <th>number</th>\n",
       "    </tr>\n",
       "  </thead>\n",
       "  <tbody>\n",
       "    <tr>\n",
       "      <td>4122</td>\n",
       "      <td>23703</td>\n",
       "      <td>Белая ночь</td>\n",
       "      <td>нет</td>\n",
       "      <td>кафе</td>\n",
       "      <td>город Москва, Кленовый бульвар, дом 12</td>\n",
       "      <td>60</td>\n",
       "    </tr>\n",
       "    <tr>\n",
       "      <td>12286</td>\n",
       "      <td>199828</td>\n",
       "      <td>Мираторг Бургер&amp;Фрайс</td>\n",
       "      <td>нет</td>\n",
       "      <td>кафетерий</td>\n",
       "      <td>город Москва, улица Арбат, дом 6/2</td>\n",
       "      <td>10</td>\n",
       "    </tr>\n",
       "    <tr>\n",
       "      <td>11435</td>\n",
       "      <td>174311</td>\n",
       "      <td>Пироговая №1</td>\n",
       "      <td>нет</td>\n",
       "      <td>предприятие быстрого обслуживания</td>\n",
       "      <td>город Москва, город Зеленоград, Привокзальная ...</td>\n",
       "      <td>12</td>\n",
       "    </tr>\n",
       "    <tr>\n",
       "      <td>12488</td>\n",
       "      <td>196637</td>\n",
       "      <td>Столовая</td>\n",
       "      <td>нет</td>\n",
       "      <td>столовая</td>\n",
       "      <td>город Москва, 6-я Радиальная улица, дом 3, кор...</td>\n",
       "      <td>24</td>\n",
       "    </tr>\n",
       "    <tr>\n",
       "      <td>5474</td>\n",
       "      <td>28003</td>\n",
       "      <td>Буфет</td>\n",
       "      <td>нет</td>\n",
       "      <td>буфет</td>\n",
       "      <td>город Москва, Щёлковское шоссе, дом 77, строен...</td>\n",
       "      <td>0</td>\n",
       "    </tr>\n",
       "  </tbody>\n",
       "</table>\n",
       "</div>"
      ],
      "text/plain": [
       "           id            object_name chain                        object_type  \\\n",
       "4122    23703             Белая ночь   нет                               кафе   \n",
       "12286  199828  Мираторг Бургер&Фрайс   нет                          кафетерий   \n",
       "11435  174311           Пироговая №1   нет  предприятие быстрого обслуживания   \n",
       "12488  196637               Столовая   нет                           столовая   \n",
       "5474    28003                  Буфет   нет                              буфет   \n",
       "\n",
       "                                                 address  number  \n",
       "4122              город Москва, Кленовый бульвар, дом 12      60  \n",
       "12286                 город Москва, улица Арбат, дом 6/2      10  \n",
       "11435  город Москва, город Зеленоград, Привокзальная ...      12  \n",
       "12488  город Москва, 6-я Радиальная улица, дом 3, кор...      24  \n",
       "5474   город Москва, Щёлковское шоссе, дом 77, строен...       0  "
      ]
     },
     "execution_count": 11,
     "metadata": {},
     "output_type": "execute_result"
    }
   ],
   "source": [
    "rest_data.sample(5)"
   ]
  },
  {
   "cell_type": "markdown",
   "metadata": {},
   "source": [
    "Имеем данные о заведениях общественного питания Москвы."
   ]
  },
  {
   "cell_type": "markdown",
   "metadata": {},
   "source": [
    "Таблица rest_data содержит следюущие поля:\n",
    "\n",
    "    id — идентификатор объекта;\n",
    "    object_name — название объекта общественного питания;\n",
    "    chain — сетевой ресторан;\n",
    "    object_type — тип объекта общественного питания;\n",
    "    address — адрес;\n",
    "    number — количество посадочных мест."
   ]
  },
  {
   "cell_type": "markdown",
   "metadata": {},
   "source": [
    "Посмотрим на общую информацию о датафрейме:"
   ]
  },
  {
   "cell_type": "code",
   "execution_count": 12,
   "metadata": {},
   "outputs": [
    {
     "name": "stdout",
     "output_type": "stream",
     "text": [
      "<class 'pandas.core.frame.DataFrame'>\n",
      "RangeIndex: 15366 entries, 0 to 15365\n",
      "Data columns (total 6 columns):\n",
      "id             15366 non-null int64\n",
      "object_name    15366 non-null object\n",
      "chain          15366 non-null object\n",
      "object_type    15366 non-null object\n",
      "address        15366 non-null object\n",
      "number         15366 non-null int64\n",
      "dtypes: int64(2), object(4)\n",
      "memory usage: 720.4+ KB\n"
     ]
    }
   ],
   "source": [
    "rest_data.info()"
   ]
  },
  {
   "cell_type": "markdown",
   "metadata": {},
   "source": [
    "Формат данных вроде соответствует нужному. Проверим датасет на наличие дублей и пропусков:"
   ]
  },
  {
   "cell_type": "code",
   "execution_count": 13,
   "metadata": {},
   "outputs": [
    {
     "data": {
      "text/plain": [
       "0"
      ]
     },
     "execution_count": 13,
     "metadata": {},
     "output_type": "execute_result"
    }
   ],
   "source": [
    "rest_data.duplicated().sum()"
   ]
  },
  {
   "cell_type": "code",
   "execution_count": 14,
   "metadata": {},
   "outputs": [
    {
     "data": {
      "text/plain": [
       "id             0\n",
       "object_name    0\n",
       "chain          0\n",
       "object_type    0\n",
       "address        0\n",
       "number         0\n",
       "dtype: int64"
      ]
     },
     "execution_count": 14,
     "metadata": {},
     "output_type": "execute_result"
    }
   ],
   "source": [
    "rest_data.isna().sum()"
   ]
  },
  {
   "cell_type": "markdown",
   "metadata": {},
   "source": [
    "На первый взгляд все \"чисто\". Это хороший признак. Косвенно говорит о качестве данных."
   ]
  },
  {
   "cell_type": "markdown",
   "metadata": {},
   "source": [
    "Посмотрим на наименование полей:"
   ]
  },
  {
   "cell_type": "code",
   "execution_count": 15,
   "metadata": {},
   "outputs": [
    {
     "data": {
      "text/plain": [
       "Index(['id', 'object_name', 'chain', 'object_type', 'address', 'number'], dtype='object')"
      ]
     },
     "execution_count": 15,
     "metadata": {},
     "output_type": "execute_result"
    }
   ],
   "source": [
    "rest_data.columns"
   ]
  },
  {
   "cell_type": "markdown",
   "metadata": {},
   "source": [
    "Здесь тоже все неплохо. Можно было бы заменить \"number\" на что-то более \"говорящее\", но пока оставим. Таблица у нас одна, поэтому можно и запомнить."
   ]
  },
  {
   "cell_type": "markdown",
   "metadata": {},
   "source": [
    "Обратим внимание на поле 'number', посмотрим на распределение значений:"
   ]
  },
  {
   "cell_type": "code",
   "execution_count": 16,
   "metadata": {},
   "outputs": [
    {
     "data": {
      "text/plain": [
       "0      1621\n",
       "40      835\n",
       "20      727\n",
       "30      685\n",
       "10      644\n",
       "       ... \n",
       "491       1\n",
       "675       1\n",
       "455       1\n",
       "167       1\n",
       "495       1\n",
       "Name: number, Length: 315, dtype: int64"
      ]
     },
     "execution_count": 16,
     "metadata": {},
     "output_type": "execute_result"
    }
   ],
   "source": [
    "rest_data['number'].value_counts()"
   ]
  },
  {
   "cell_type": "markdown",
   "metadata": {},
   "source": [
    "Видим, что присутствуют нулевые значения, что конечно же неправильно. Правда не до конца можно определить причины. Возможно этих данных попросту нет.  Остается понять, что с этим делать. "
   ]
  },
  {
   "cell_type": "markdown",
   "metadata": {},
   "source": [
    "Записей с нулевым значением по этому признаку достаточно много. Поэтому наверное пока принимаем решение оставить все как есть. Учет этого фактора будем держать в голове при анализе значений по этому полю. "
   ]
  },
  {
   "cell_type": "markdown",
   "metadata": {},
   "source": [
    "Любопытно посмотреть на поле 'object_type' и его содержание:"
   ]
  },
  {
   "cell_type": "code",
   "execution_count": 17,
   "metadata": {},
   "outputs": [
    {
     "data": {
      "text/plain": [
       "array(['кафе', 'столовая', 'закусочная',\n",
       "       'предприятие быстрого обслуживания', 'ресторан', 'кафетерий',\n",
       "       'буфет', 'бар', 'магазин (отдел кулинарии)'], dtype=object)"
      ]
     },
     "execution_count": 17,
     "metadata": {},
     "output_type": "execute_result"
    }
   ],
   "source": [
    "rest_data['object_type'].unique()"
   ]
  },
  {
   "cell_type": "markdown",
   "metadata": {},
   "source": [
    "Для поля 'object_type' можно было бы немного \"укоротить\" названия отдельных типов заведений. Присвоим имя \"фастфуд\" типу \"предприятие быстрого обслуживания\", а типу 'магазин (отдел кулинарии)' - просто \"кулинария\":"
   ]
  },
  {
   "cell_type": "code",
   "execution_count": 18,
   "metadata": {},
   "outputs": [],
   "source": [
    "rest_data['object_type'] = rest_data['object_type'].replace('предприятие быстрого обслуживания', 'фастфуд')\n",
    "rest_data['object_type'] = rest_data['object_type'].replace('магазин (отдел кулинарии)', 'кулинария')"
   ]
  },
  {
   "cell_type": "markdown",
   "metadata": {},
   "source": [
    "Посмотрим на оставшиеся поля поближе:"
   ]
  },
  {
   "cell_type": "code",
   "execution_count": 19,
   "metadata": {},
   "outputs": [
    {
     "data": {
      "text/plain": [
       "array(['нет', 'да'], dtype=object)"
      ]
     },
     "execution_count": 19,
     "metadata": {},
     "output_type": "execute_result"
    }
   ],
   "source": [
    "rest_data['chain'].unique()"
   ]
  },
  {
   "cell_type": "code",
   "execution_count": 20,
   "metadata": {},
   "outputs": [
    {
     "data": {
      "text/plain": [
       "0"
      ]
     },
     "execution_count": 20,
     "metadata": {},
     "output_type": "execute_result"
    }
   ],
   "source": [
    "rest_data['id'].duplicated().sum()"
   ]
  },
  {
   "cell_type": "code",
   "execution_count": 40,
   "metadata": {},
   "outputs": [],
   "source": [
    "rest_data = rest_data.drop_duplicates(subset=rest_data.columns.difference(['id']))"
   ]
  },
  {
   "cell_type": "code",
   "execution_count": 41,
   "metadata": {},
   "outputs": [
    {
     "name": "stdout",
     "output_type": "stream",
     "text": [
      "<class 'pandas.core.frame.DataFrame'>\n",
      "Int64Index: 15281 entries, 0 to 15365\n",
      "Data columns (total 6 columns):\n",
      "id             15281 non-null int64\n",
      "object_name    15281 non-null object\n",
      "chain          15281 non-null object\n",
      "object_type    15281 non-null object\n",
      "address        15281 non-null object\n",
      "number         15281 non-null int64\n",
      "dtypes: int64(2), object(4)\n",
      "memory usage: 835.7+ KB\n"
     ]
    }
   ],
   "source": [
    "rest_data.info()"
   ]
  },
  {
   "cell_type": "markdown",
   "metadata": {},
   "source": [
    "В принципе колонку \"chain\" можно было бы сделать булевой. Но пока это просто возьмем на заметку. Вторым моментом, опять же для удобства заменим содержащиеся здесь значения на \"сеть\", \"не_сеть\":"
   ]
  },
  {
   "cell_type": "code",
   "execution_count": 21,
   "metadata": {},
   "outputs": [],
   "source": [
    "rest_data['chain'] = rest_data['chain'].replace('нет', 'не_сеть')\n",
    "rest_data['chain'] = rest_data['chain'].replace('да', 'сеть')"
   ]
  },
  {
   "cell_type": "markdown",
   "metadata": {},
   "source": [
    "Поле \"address\", тоже приведем к нижнему регистру:"
   ]
  },
  {
   "cell_type": "code",
   "execution_count": 22,
   "metadata": {},
   "outputs": [
    {
     "data": {
      "text/plain": [
       "array(['город москва, улица егора абакумова, дом 9',\n",
       "       'город москва, улица талалихина, дом 2/1, корпус 1',\n",
       "       'город москва, абельмановская улица, дом 6', ...,\n",
       "       'город москва, салтыковская улица, дом 7г',\n",
       "       'город москва, осенний бульвар, дом 9',\n",
       "       'город москва, улица новый арбат, дом 13'], dtype=object)"
      ]
     },
     "execution_count": 22,
     "metadata": {},
     "output_type": "execute_result"
    }
   ],
   "source": [
    "rest_data['address'] = rest_data['address'].str.lower()\n",
    "rest_data['address'].unique()"
   ]
  },
  {
   "cell_type": "markdown",
   "metadata": {},
   "source": [
    "Далее посмотрим на 'object_name':"
   ]
  },
  {
   "cell_type": "code",
   "execution_count": 23,
   "metadata": {},
   "outputs": [
    {
     "data": {
      "text/plain": [
       "array(['СМЕТАНА', 'Родник', 'Кафе «Академия»', ..., 'Бар Мята Lounge',\n",
       "       'Мята Lounge Октябрьская', 'Кальянная «Мята Lounge»'], dtype=object)"
      ]
     },
     "execution_count": 23,
     "metadata": {},
     "output_type": "execute_result"
    }
   ],
   "source": [
    "rest_data['object_name'].unique()"
   ]
  },
  {
   "cell_type": "markdown",
   "metadata": {},
   "source": [
    "Что же касается 'object_name' то здесь можно было бы привести все к нижнему регистру. Для удобства восприятия."
   ]
  },
  {
   "cell_type": "code",
   "execution_count": 24,
   "metadata": {},
   "outputs": [
    {
     "data": {
      "text/plain": [
       "array(['сметана', 'родник', 'кафе «академия»', ..., 'бар мята lounge',\n",
       "       'мята lounge октябрьская', 'кальянная «мята lounge»'], dtype=object)"
      ]
     },
     "execution_count": 24,
     "metadata": {},
     "output_type": "execute_result"
    }
   ],
   "source": [
    "rest_data['object_name'] = rest_data['object_name'].str.lower()\n",
    "rest_data['object_name'].unique()"
   ]
  },
  {
   "cell_type": "markdown",
   "metadata": {},
   "source": [
    "Также для поля 'object_name' имеем несколько заведений сети \"мята лаунж\" под разным обозначением. Потенциально здесь могут быть скрыты ошибки/задвоения. Попробуем проверить на всякий случай:"
   ]
  },
  {
   "cell_type": "code",
   "execution_count": 25,
   "metadata": {},
   "outputs": [
    {
     "data": {
      "text/plain": [
       "столовая                           321\n",
       "кафе                               278\n",
       "шаурма                             250\n",
       "шоколадница                        158\n",
       "kfc                                155\n",
       "                                  ... \n",
       "ресторан планета суши иль патио      1\n",
       "кафе блиндаж                         1\n",
       "пбо «гриль хаус»                     1\n",
       "бар 19-80                            1\n",
       "достоевский                          1\n",
       "Name: object_name, Length: 9924, dtype: int64"
      ]
     },
     "execution_count": 25,
     "metadata": {},
     "output_type": "execute_result"
    }
   ],
   "source": [
    "rest_data['object_name'].value_counts()"
   ]
  },
  {
   "cell_type": "markdown",
   "metadata": {},
   "source": [
    "Да, не особо что-то помогло. Хотя вон кафе Прайм обозначенно вновь вряд ли корректно. По id мы тоже выловить не можем подобные ошибки. Остатеся только адрес. Можно поробовать посмотреть имееются ли по одному адресу одни и теже точки. Причем справедливо это будет только в отношении сетевых заведений:"
   ]
  },
  {
   "cell_type": "code",
   "execution_count": 26,
   "metadata": {},
   "outputs": [],
   "source": [
    "rest_data_chain = rest_data.query(\"chain == 'сеть'\")"
   ]
  },
  {
   "cell_type": "code",
   "execution_count": 27,
   "metadata": {},
   "outputs": [
    {
     "name": "stdout",
     "output_type": "stream",
     "text": [
      "<class 'pandas.core.frame.DataFrame'>\n",
      "Int64Index: 2968 entries, 3 to 15365\n",
      "Data columns (total 6 columns):\n",
      "id             2968 non-null int64\n",
      "object_name    2968 non-null object\n",
      "chain          2968 non-null object\n",
      "object_type    2968 non-null object\n",
      "address        2968 non-null object\n",
      "number         2968 non-null int64\n",
      "dtypes: int64(2), object(4)\n",
      "memory usage: 162.3+ KB\n"
     ]
    }
   ],
   "source": [
    "rest_data_chain.info()"
   ]
  },
  {
   "cell_type": "code",
   "execution_count": 28,
   "metadata": {},
   "outputs": [
    {
     "data": {
      "text/plain": [
       "шоколадница                            157\n",
       "kfc                                    155\n",
       "макдоналдс                             151\n",
       "бургер кинг                            137\n",
       "теремок                                 94\n",
       "крошка картошка                         90\n",
       "домино'с пицца                          90\n",
       "суши wok                                72\n",
       "милти                                   72\n",
       "папа джонс                              51\n",
       "додо пицца                              49\n",
       "кофе с собой                            46\n",
       "чайхона №1                              43\n",
       "якитория                                38\n",
       "хинкальная                              38\n",
       "кофе хаус                               35\n",
       "subway                                  34\n",
       "хлеб насущный                           32\n",
       "тануки                                  32\n",
       "starbucks                               30\n",
       "прайм стар                              26\n",
       "иль патио                               25\n",
       "cofix                                   25\n",
       "мята lounge                             24\n",
       "му-му                                   24\n",
       "старбакс                                21\n",
       "андерсон                                19\n",
       "сабвей                                  19\n",
       "пицца хат                               18\n",
       "кафе «шоколадница»                      16\n",
       "кулинарная лавка братьев караваевых     16\n",
       "кофемания                               15\n",
       "алло пицца                              15\n",
       "сушишоп                                 15\n",
       "пицца паоло                             15\n",
       "кружка                                  14\n",
       "стардогs                                14\n",
       "суши сет                                13\n",
       "суши вок                                13\n",
       "штолле                                  13\n",
       "баскин роббинс                          12\n",
       "волконский                              12\n",
       "ваби-саби                               11\n",
       "кафе «kfc»                              11\n",
       "ресторан «тануки»                       11\n",
       "прайм                                   10\n",
       "грабли                                  10\n",
       "джон джоли                              10\n",
       "пиццерия «папа джонс»                   10\n",
       "вареничная №1                           10\n",
       "французская выпечка                      9\n",
       "то да сё                                 9\n",
       "корчма тарас бульба                      9\n",
       "кафе «теремок»                           9\n",
       "воккер                                   9\n",
       "иль патио планета суши                   9\n",
       "пицца экспресс                           9\n",
       "братья караваевы                         9\n",
       "ресторан «макдоналдс»                    8\n",
       "брусника                                 8\n",
       "Name: object_name, dtype: int64"
      ]
     },
     "execution_count": 28,
     "metadata": {},
     "output_type": "execute_result"
    }
   ],
   "source": [
    "rest_data_chain['object_name'].value_counts().head(60)"
   ]
  },
  {
   "cell_type": "code",
   "execution_count": 29,
   "metadata": {},
   "outputs": [
    {
     "data": {
      "text/plain": [
       "кафе «кофейня старбакс»     1\n",
       "ресторан «золотая вобла»    1\n",
       "стейк хаус гудман           1\n",
       "кафе песто и митлес         1\n",
       "ванвок                      1\n",
       "штирбирлиц                  1\n",
       "кафе kfc                    1\n",
       "гино-но-таки                1\n",
       "кафе макдоналдс             1\n",
       "корчма «тарас бульба»       1\n",
       "гурмания                    1\n",
       "в&в бургер                  1\n",
       "кофейня «де марко»          1\n",
       "добрынинский и партнёры     1\n",
       "пбо «теремок»               1\n",
       "югос                        1\n",
       "кулинарное бюро китчен      1\n",
       "пицерия «папа джонс»        1\n",
       "шоколадница кофе хаус       1\n",
       "милано пицца                1\n",
       "panda express               1\n",
       "пиццерия донателло          1\n",
       "брава коста кофе            1\n",
       "кафе му-му                  1\n",
       "ав-дейли азбука вкуса       1\n",
       "детский клуб «андерсон»     1\n",
       "кафе якитория               1\n",
       "теремок инвест              1\n",
       "tutti frutti                1\n",
       "пиццерия «пицца хат»        1\n",
       "кальянная «мята lounge»     1\n",
       "grand урюк                  1\n",
       "кафе штолле                 1\n",
       "пражечка                    1\n",
       "кофе с собой gate 42        1\n",
       "готовые блюда милти         1\n",
       "кафе «starbucks»            1\n",
       "кофейня «дабл би»           1\n",
       "шантимель (кондитерские)    1\n",
       "оникс                       1\n",
       "Name: object_name, dtype: int64"
      ]
     },
     "execution_count": 29,
     "metadata": {},
     "output_type": "execute_result"
    }
   ],
   "source": [
    "rest_data_chain['object_name'].value_counts().tail(40)"
   ]
  },
  {
   "cell_type": "markdown",
   "metadata": {},
   "source": [
    "Мда. С названиями беда совсем. И написание разное, и на разных языках, и различные приставки/окончания, и всякий доп. мусор. Видимо все исправить не получится. Поэтому попробуем сосредоточится на самом крупном и будем надеятся, что после, отдельные единичные случаи не сильно повлияют на общую картинку. "
   ]
  },
  {
   "cell_type": "markdown",
   "metadata": {},
   "source": [
    "Пожалуй попробуем сформировать перечень наименований заведений из топ-50 нашей таблицы по кол-ву заведений. Вероятней всего их наименование более всего и подвержено \"вольному\" написанию."
   ]
  },
  {
   "cell_type": "code",
   "execution_count": 30,
   "metadata": {},
   "outputs": [
    {
     "data": {
      "text/plain": [
       "шоколадница                 157\n",
       "kfc                         155\n",
       "макдоналдс                  151\n",
       "бургер кинг                 137\n",
       "теремок                      94\n",
       "                           ... \n",
       "готовые блюда милти           1\n",
       "кафе «starbucks»              1\n",
       "кофейня «дабл би»             1\n",
       "шантимель (кондитерские)      1\n",
       "оникс                         1\n",
       "Name: object_name, Length: 577, dtype: int64"
      ]
     },
     "execution_count": 30,
     "metadata": {},
     "output_type": "execute_result"
    }
   ],
   "source": [
    "rest_data_chain['object_name'].value_counts()"
   ]
  },
  {
   "cell_type": "code",
   "execution_count": 31,
   "metadata": {},
   "outputs": [
    {
     "data": {
      "text/html": [
       "<div>\n",
       "<style scoped>\n",
       "    .dataframe tbody tr th:only-of-type {\n",
       "        vertical-align: middle;\n",
       "    }\n",
       "\n",
       "    .dataframe tbody tr th {\n",
       "        vertical-align: top;\n",
       "    }\n",
       "\n",
       "    .dataframe thead th {\n",
       "        text-align: right;\n",
       "    }\n",
       "</style>\n",
       "<table border=\"1\" class=\"dataframe\">\n",
       "  <thead>\n",
       "    <tr style=\"text-align: right;\">\n",
       "      <th></th>\n",
       "      <th>id</th>\n",
       "      <th>object_name</th>\n",
       "      <th>chain</th>\n",
       "      <th>object_type</th>\n",
       "      <th>address</th>\n",
       "      <th>number</th>\n",
       "    </tr>\n",
       "  </thead>\n",
       "  <tbody>\n",
       "    <tr>\n",
       "      <td>3</td>\n",
       "      <td>21894</td>\n",
       "      <td>пиццетория</td>\n",
       "      <td>сеть</td>\n",
       "      <td>кафе</td>\n",
       "      <td>город москва, абрамцевская улица, дом 1</td>\n",
       "      <td>40</td>\n",
       "    </tr>\n",
       "    <tr>\n",
       "      <td>6</td>\n",
       "      <td>148815</td>\n",
       "      <td>брусника</td>\n",
       "      <td>сеть</td>\n",
       "      <td>кафе</td>\n",
       "      <td>город москва, переулок сивцев вражек, дом 6/2</td>\n",
       "      <td>10</td>\n",
       "    </tr>\n",
       "    <tr>\n",
       "      <td>13</td>\n",
       "      <td>22579</td>\n",
       "      <td>алло пицца</td>\n",
       "      <td>сеть</td>\n",
       "      <td>кафе</td>\n",
       "      <td>город москва, улица авиаторов, дом 14</td>\n",
       "      <td>32</td>\n",
       "    </tr>\n",
       "    <tr>\n",
       "      <td>16</td>\n",
       "      <td>144107</td>\n",
       "      <td>суши wok</td>\n",
       "      <td>сеть</td>\n",
       "      <td>фастфуд</td>\n",
       "      <td>город москва, азовская улица, дом 3</td>\n",
       "      <td>7</td>\n",
       "    </tr>\n",
       "    <tr>\n",
       "      <td>18</td>\n",
       "      <td>58565</td>\n",
       "      <td>тануки</td>\n",
       "      <td>сеть</td>\n",
       "      <td>ресторан</td>\n",
       "      <td>город москва, большая академическая улица, дом 65</td>\n",
       "      <td>160</td>\n",
       "    </tr>\n",
       "    <tr>\n",
       "      <td>...</td>\n",
       "      <td>...</td>\n",
       "      <td>...</td>\n",
       "      <td>...</td>\n",
       "      <td>...</td>\n",
       "      <td>...</td>\n",
       "      <td>...</td>\n",
       "    </tr>\n",
       "    <tr>\n",
       "      <td>15361</td>\n",
       "      <td>208537</td>\n",
       "      <td>шоколадница</td>\n",
       "      <td>сеть</td>\n",
       "      <td>кафе</td>\n",
       "      <td>город москва, 3-й крутицкий переулок, дом 18</td>\n",
       "      <td>50</td>\n",
       "    </tr>\n",
       "    <tr>\n",
       "      <td>15362</td>\n",
       "      <td>209264</td>\n",
       "      <td>шоколадница</td>\n",
       "      <td>сеть</td>\n",
       "      <td>кафе</td>\n",
       "      <td>город москва, улица земляной вал, дом 33</td>\n",
       "      <td>10</td>\n",
       "    </tr>\n",
       "    <tr>\n",
       "      <td>15363</td>\n",
       "      <td>209186</td>\n",
       "      <td>шоколадница</td>\n",
       "      <td>сеть</td>\n",
       "      <td>кафе</td>\n",
       "      <td>город москва, улица земляной вал, дом 33</td>\n",
       "      <td>20</td>\n",
       "    </tr>\n",
       "    <tr>\n",
       "      <td>15364</td>\n",
       "      <td>221900</td>\n",
       "      <td>шоколадница</td>\n",
       "      <td>сеть</td>\n",
       "      <td>кафе</td>\n",
       "      <td>город москва, поселение московский, киевское ш...</td>\n",
       "      <td>36</td>\n",
       "    </tr>\n",
       "    <tr>\n",
       "      <td>15365</td>\n",
       "      <td>222535</td>\n",
       "      <td>шоколадница</td>\n",
       "      <td>сеть</td>\n",
       "      <td>кафе</td>\n",
       "      <td>город москва, ходынский бульвар, дом 4</td>\n",
       "      <td>10</td>\n",
       "    </tr>\n",
       "  </tbody>\n",
       "</table>\n",
       "<p>2968 rows × 6 columns</p>\n",
       "</div>"
      ],
      "text/plain": [
       "           id  object_name chain object_type  \\\n",
       "3       21894   пиццетория  сеть        кафе   \n",
       "6      148815     брусника  сеть        кафе   \n",
       "13      22579   алло пицца  сеть        кафе   \n",
       "16     144107     суши wok  сеть     фастфуд   \n",
       "18      58565       тануки  сеть    ресторан   \n",
       "...       ...          ...   ...         ...   \n",
       "15361  208537  шоколадница  сеть        кафе   \n",
       "15362  209264  шоколадница  сеть        кафе   \n",
       "15363  209186  шоколадница  сеть        кафе   \n",
       "15364  221900  шоколадница  сеть        кафе   \n",
       "15365  222535  шоколадница  сеть        кафе   \n",
       "\n",
       "                                                 address  number  \n",
       "3                город москва, абрамцевская улица, дом 1      40  \n",
       "6          город москва, переулок сивцев вражек, дом 6/2      10  \n",
       "13                 город москва, улица авиаторов, дом 14      32  \n",
       "16                   город москва, азовская улица, дом 3       7  \n",
       "18     город москва, большая академическая улица, дом 65     160  \n",
       "...                                                  ...     ...  \n",
       "15361       город москва, 3-й крутицкий переулок, дом 18      50  \n",
       "15362           город москва, улица земляной вал, дом 33      10  \n",
       "15363           город москва, улица земляной вал, дом 33      20  \n",
       "15364  город москва, поселение московский, киевское ш...      36  \n",
       "15365             город москва, ходынский бульвар, дом 4      10  \n",
       "\n",
       "[2968 rows x 6 columns]"
      ]
     },
     "execution_count": 31,
     "metadata": {},
     "output_type": "execute_result"
    }
   ],
   "source": [
    "rest_data_chain"
   ]
  },
  {
   "cell_type": "markdown",
   "metadata": {},
   "source": [
    "На этом предобработку закончим. Особых проблем с данными не было. Дополнительно можно было бы выделить какую-то категорию в новое поле. Но это мы решим далее, в зависимости от потребности."
   ]
  },
  {
   "cell_type": "markdown",
   "metadata": {},
   "source": [
    "# Шаг 2"
   ]
  },
  {
   "cell_type": "markdown",
   "metadata": {},
   "source": [
    "Исследуем соотношение видов объектов общественного питания по количеству:"
   ]
  },
  {
   "cell_type": "code",
   "execution_count": 56,
   "metadata": {},
   "outputs": [
    {
     "data": {
      "text/plain": [
       "кафе          6071\n",
       "столовая      2584\n",
       "ресторан      2282\n",
       "фастфуд       1897\n",
       "бар            855\n",
       "буфет          576\n",
       "кафетерий      395\n",
       "закусочная     348\n",
       "кулинария      273\n",
       "Name: object_type, dtype: int64"
      ]
     },
     "execution_count": 56,
     "metadata": {},
     "output_type": "execute_result"
    }
   ],
   "source": [
    "rest_data['object_type'].value_counts()"
   ]
  },
  {
   "cell_type": "code",
   "execution_count": 57,
   "metadata": {},
   "outputs": [
    {
     "data": {
      "image/png": "[encoded data removed]",
      "text/plain": [
       "<Figure size 1152x648 with 1 Axes>"
      ]
     },
     "metadata": {
      "needs_background": "light"
     },
     "output_type": "display_data"
    }
   ],
   "source": [
    "rest_data['object_type'].value_counts().plot(figsize = (16,9), kind=\"bar\")\n",
    "plt.title('График типов общественного питания по количеству')\n",
    "plt.xlabel(\"Тип заведения\")\n",
    "plt.ylabel(\"Кол-во\")\n",
    "plt.show()"
   ]
  },
  {
   "cell_type": "markdown",
   "metadata": {},
   "source": [
    "Видим что в топ-4 у нас входят кафе, столовая, ресторан и фастфуд. На эти 4 типа приходится порядка 80% всех заведений из нашего датасета. В принципе, все остальные типа можно было бы условно категоризировать, как \"все остальные типы\"."
   ]
  },
  {
   "cell_type": "markdown",
   "metadata": {},
   "source": [
    "На тип \"кафе\" приходится порядка 6000 заведений. На графике видно, что этот тип на порядок \"опережает\"2-е, 3-е и 4-е места. Безусловно самый распространенный тип заведений."
   ]
  },
  {
   "cell_type": "markdown",
   "metadata": {},
   "source": [
    "Исследуем соотношение сетевых и несетевых заведений по количеству:"
   ]
  },
  {
   "cell_type": "code",
   "execution_count": 58,
   "metadata": {},
   "outputs": [
    {
     "data": {
      "text/html": [
       "<div>\n",
       "<style scoped>\n",
       "    .dataframe tbody tr th:only-of-type {\n",
       "        vertical-align: middle;\n",
       "    }\n",
       "\n",
       "    .dataframe tbody tr th {\n",
       "        vertical-align: top;\n",
       "    }\n",
       "\n",
       "    .dataframe thead th {\n",
       "        text-align: right;\n",
       "    }\n",
       "</style>\n",
       "<table border=\"1\" class=\"dataframe\">\n",
       "  <thead>\n",
       "    <tr style=\"text-align: right;\">\n",
       "      <th></th>\n",
       "      <th>id</th>\n",
       "      <th>object_name</th>\n",
       "      <th>chain</th>\n",
       "      <th>object_type</th>\n",
       "      <th>address</th>\n",
       "      <th>number</th>\n",
       "    </tr>\n",
       "  </thead>\n",
       "  <tbody>\n",
       "    <tr>\n",
       "      <td>0</td>\n",
       "      <td>151635</td>\n",
       "      <td>сметана</td>\n",
       "      <td>не_сеть</td>\n",
       "      <td>кафе</td>\n",
       "      <td>город москва, улица егора абакумова, дом 9</td>\n",
       "      <td>48</td>\n",
       "    </tr>\n",
       "    <tr>\n",
       "      <td>1</td>\n",
       "      <td>77874</td>\n",
       "      <td>родник</td>\n",
       "      <td>не_сеть</td>\n",
       "      <td>кафе</td>\n",
       "      <td>город москва, улица талалихина, дом 2/1, корпус 1</td>\n",
       "      <td>35</td>\n",
       "    </tr>\n",
       "    <tr>\n",
       "      <td>2</td>\n",
       "      <td>24309</td>\n",
       "      <td>кафе «академия»</td>\n",
       "      <td>не_сеть</td>\n",
       "      <td>кафе</td>\n",
       "      <td>город москва, абельмановская улица, дом 6</td>\n",
       "      <td>95</td>\n",
       "    </tr>\n",
       "    <tr>\n",
       "      <td>3</td>\n",
       "      <td>21894</td>\n",
       "      <td>пиццетория</td>\n",
       "      <td>сеть</td>\n",
       "      <td>кафе</td>\n",
       "      <td>город москва, абрамцевская улица, дом 1</td>\n",
       "      <td>40</td>\n",
       "    </tr>\n",
       "    <tr>\n",
       "      <td>4</td>\n",
       "      <td>119365</td>\n",
       "      <td>кафе «вишневая метель»</td>\n",
       "      <td>не_сеть</td>\n",
       "      <td>кафе</td>\n",
       "      <td>город москва, абрамцевская улица, дом 9, корпус 1</td>\n",
       "      <td>50</td>\n",
       "    </tr>\n",
       "    <tr>\n",
       "      <td>...</td>\n",
       "      <td>...</td>\n",
       "      <td>...</td>\n",
       "      <td>...</td>\n",
       "      <td>...</td>\n",
       "      <td>...</td>\n",
       "      <td>...</td>\n",
       "    </tr>\n",
       "    <tr>\n",
       "      <td>15361</td>\n",
       "      <td>208537</td>\n",
       "      <td>шоколадница</td>\n",
       "      <td>сеть</td>\n",
       "      <td>кафе</td>\n",
       "      <td>город москва, 3-й крутицкий переулок, дом 18</td>\n",
       "      <td>50</td>\n",
       "    </tr>\n",
       "    <tr>\n",
       "      <td>15362</td>\n",
       "      <td>209264</td>\n",
       "      <td>шоколадница</td>\n",
       "      <td>сеть</td>\n",
       "      <td>кафе</td>\n",
       "      <td>город москва, улица земляной вал, дом 33</td>\n",
       "      <td>10</td>\n",
       "    </tr>\n",
       "    <tr>\n",
       "      <td>15363</td>\n",
       "      <td>209186</td>\n",
       "      <td>шоколадница</td>\n",
       "      <td>сеть</td>\n",
       "      <td>кафе</td>\n",
       "      <td>город москва, улица земляной вал, дом 33</td>\n",
       "      <td>20</td>\n",
       "    </tr>\n",
       "    <tr>\n",
       "      <td>15364</td>\n",
       "      <td>221900</td>\n",
       "      <td>шоколадница</td>\n",
       "      <td>сеть</td>\n",
       "      <td>кафе</td>\n",
       "      <td>город москва, поселение московский, киевское ш...</td>\n",
       "      <td>36</td>\n",
       "    </tr>\n",
       "    <tr>\n",
       "      <td>15365</td>\n",
       "      <td>222535</td>\n",
       "      <td>шоколадница</td>\n",
       "      <td>сеть</td>\n",
       "      <td>кафе</td>\n",
       "      <td>город москва, ходынский бульвар, дом 4</td>\n",
       "      <td>10</td>\n",
       "    </tr>\n",
       "  </tbody>\n",
       "</table>\n",
       "<p>15281 rows × 6 columns</p>\n",
       "</div>"
      ],
      "text/plain": [
       "           id             object_name    chain object_type  \\\n",
       "0      151635                 сметана  не_сеть        кафе   \n",
       "1       77874                  родник  не_сеть        кафе   \n",
       "2       24309         кафе «академия»  не_сеть        кафе   \n",
       "3       21894              пиццетория     сеть        кафе   \n",
       "4      119365  кафе «вишневая метель»  не_сеть        кафе   \n",
       "...       ...                     ...      ...         ...   \n",
       "15361  208537             шоколадница     сеть        кафе   \n",
       "15362  209264             шоколадница     сеть        кафе   \n",
       "15363  209186             шоколадница     сеть        кафе   \n",
       "15364  221900             шоколадница     сеть        кафе   \n",
       "15365  222535             шоколадница     сеть        кафе   \n",
       "\n",
       "                                                 address  number  \n",
       "0             город москва, улица егора абакумова, дом 9      48  \n",
       "1      город москва, улица талалихина, дом 2/1, корпус 1      35  \n",
       "2              город москва, абельмановская улица, дом 6      95  \n",
       "3                город москва, абрамцевская улица, дом 1      40  \n",
       "4      город москва, абрамцевская улица, дом 9, корпус 1      50  \n",
       "...                                                  ...     ...  \n",
       "15361       город москва, 3-й крутицкий переулок, дом 18      50  \n",
       "15362           город москва, улица земляной вал, дом 33      10  \n",
       "15363           город москва, улица земляной вал, дом 33      20  \n",
       "15364  город москва, поселение московский, киевское ш...      36  \n",
       "15365             город москва, ходынский бульвар, дом 4      10  \n",
       "\n",
       "[15281 rows x 6 columns]"
      ]
     },
     "execution_count": 58,
     "metadata": {},
     "output_type": "execute_result"
    }
   ],
   "source": [
    "rest_data"
   ]
  },
  {
   "cell_type": "code",
   "execution_count": 59,
   "metadata": {},
   "outputs": [
    {
     "data": {
      "image/png": "[encoded data removed]",
      "text/plain": [
       "<Figure size 1152x648 with 1 Axes>"
      ]
     },
     "metadata": {},
     "output_type": "display_data"
    }
   ],
   "source": [
    "rest_data['chain'].value_counts().plot(\n",
    "    y='chain', kind='pie', \n",
    "    title = 'Соотношение сетевых заведений к несетевым', \n",
    "    figsize = (16,9),autopct='%1.1f%%'\n",
    ")\n",
    "plt.show()"
   ]
  },
  {
   "cell_type": "markdown",
   "metadata": {},
   "source": [
    "Соотношение примерно 1 к 4. В принципе здесь все логично. Интересно посмотреть какие же из типов заведний более предрасположены к \"сетевому\" развитию. Для этого у нас уже есть нужный \"срез\":"
   ]
  },
  {
   "cell_type": "code",
   "execution_count": 60,
   "metadata": {},
   "outputs": [
    {
     "data": {
      "image/png": "[encoded data removed]",
      "text/plain": [
       "<Figure size 1224x648 with 1 Axes>"
      ]
     },
     "metadata": {
      "needs_background": "light"
     },
     "output_type": "display_data"
    }
   ],
   "source": [
    "rest_data_chain['object_type'].value_counts().plot(figsize = (17,9), kind=\"bar\")\n",
    "plt.title('График типов общественного питания в разрезе сетей')\n",
    "plt.xlabel(\"Тип заведения\")\n",
    "plt.ylabel(\"Кол-во\")\n",
    "plt.show()"
   ]
  },
  {
   "cell_type": "markdown",
   "metadata": {},
   "source": [
    "Видим, что вновь кафе лидируют. Фастфуд и рестораны также имеют существенную долю. Остальные типы представлены в меньшей степени. "
   ]
  },
  {
   "cell_type": "code",
   "execution_count": 139,
   "metadata": {},
   "outputs": [],
   "source": [
    "chain_count = rest_data.query(\"chain == 'сеть'\").groupby(by = 'object_type').count()\n",
    "not_chain_count = rest_data.query(\"chain == 'не_сеть'\").groupby(by = 'object_type').count()\n",
    "ch_merge = pd.merge( chain_count,  not_chain_count, on='object_type', how='left')\n",
    "ch_merge ['chain_ratio'] = (ch_merge['id_x'] / ch_merge['id_y'] * 100).round()\n",
    "ch_merge = ch_merge.sort_values(by = 'chain_ratio', ascending = False)"
   ]
  },
  {
   "cell_type": "code",
   "execution_count": 140,
   "metadata": {},
   "outputs": [
    {
     "data": {
      "image/png": "[encoded data removed]",
      "text/plain": [
       "<Figure size 1224x648 with 1 Axes>"
      ]
     },
     "metadata": {
      "needs_background": "light"
     },
     "output_type": "display_data"
    }
   ],
   "source": [
    "ch_merge ['chain_ratio'].plot(figsize = (17,9), kind=\"bar\")\n",
    "plt.title('График типов общественного питания в разрезе сетей')\n",
    "plt.xlabel(\"Тип заведения\")\n",
    "plt.ylabel(\"Кол-во\")\n",
    "plt.show()"
   ]
  },
  {
   "cell_type": "markdown",
   "metadata": {},
   "source": [
    "Посмотрим на то, что более характерно для сетевых заведений: много заведений с небольшим числом посадочных мест в каждом или мало заведений с большим количеством посадочных мест?"
   ]
  },
  {
   "cell_type": "code",
   "execution_count": 61,
   "metadata": {},
   "outputs": [
    {
     "data": {
      "image/png": "[encoded data removed]",
      "text/plain": [
       "<Figure size 1058.4x739.44 with 1 Axes>"
      ]
     },
     "metadata": {
      "needs_background": "light"
     },
     "output_type": "display_data"
    }
   ],
   "source": [
    "fig, ax = plt.subplots()\n",
    "#ax.set_title('График распределения посадочных мест по типам заведений', xlabel='its x_label', ylabel='its y_label')\n",
    "fig.set_size_inches(14.7, 10.27)\n",
    "plt.xticks(rotation=45)\n",
    "sns.boxplot(x='object_type', y='number', data=rest_data_chain).set(title='График распределения посадочных мест по типам заведений', xlabel='Тип', ylabel='Кол-во посадочных мест')\n",
    "plt.show()"
   ]
  },
  {
   "cell_type": "markdown",
   "metadata": {},
   "source": [
    "График повторяет почти точно предыдуший. Видим, что наиболее распрораненный сетевой вид - \"кафе\", для него характерно меньшее количество посадочных мест. В принципе, можно сказать, что для сетевых заведений наиболее характерег формат большого кол-ва заведений с маленьким кол-вом посадочных мест. Отклонения в общем и целом не большие. Выделяется ресторан, но здесь это обусловлено типом заведения."
   ]
  },
  {
   "cell_type": "markdown",
   "metadata": {},
   "source": [
    "Аналогично на это же графике можно увидеть и информацию о среднем количестве посадочных мест. Тип \"столовая\" здесь лидирует, опять же по понятным причинам. Ну и типы \"ресторан\" и \"бар\" занимают второе и третье местов этом условном рейтинге."
   ]
  },
  {
   "cell_type": "markdown",
   "metadata": {},
   "source": [
    "Любопытно в принципе посмотреть на распредление значений по признаку кол-ва посадочных мест:"
   ]
  },
  {
   "cell_type": "code",
   "execution_count": 62,
   "metadata": {
    "scrolled": true
   },
   "outputs": [
    {
     "data": {
      "image/png": "[encoded data removed]",
      "text/plain": [
       "<Figure size 1152x648 with 1 Axes>"
      ]
     },
     "metadata": {
      "needs_background": "light"
     },
     "output_type": "display_data"
    }
   ],
   "source": [
    "rest_data_chain['number'].hist(bins = 10, figsize = (16,9), grid = False)\n",
    "plt.show()"
   ]
  },
  {
   "cell_type": "markdown",
   "metadata": {},
   "source": [
    "Далее попробуем проналаизировать информацию о местоположении, для этого, для начала, выделим из в отдельный столбец информацию об улице из столбца address:"
   ]
  },
  {
   "cell_type": "code",
   "execution_count": 63,
   "metadata": {},
   "outputs": [],
   "source": [
    "words = ['улица', 'переулок', 'шоссе', 'проспект', 'площадь', 'проезд', 'село', 'деревня', 'аллея', 'корпус', 'бульвар', 'набережная', 'тупик', 'линия', 'микрорайон', 'поселение', 'квартал', 'посёлок', 'километр', 'территория', 'просек']\n",
    "str_pat = r\"\\s*\\b([^,]*?(?:{})\\b[^,]*)[,$]+\".format(\"|\".join(words))\n",
    "rest_data['street'] = rest_data['address'].str.extract(str_pat)"
   ]
  },
  {
   "cell_type": "code",
   "execution_count": 64,
   "metadata": {},
   "outputs": [
    {
     "data": {
      "text/html": [
       "<div>\n",
       "<style scoped>\n",
       "    .dataframe tbody tr th:only-of-type {\n",
       "        vertical-align: middle;\n",
       "    }\n",
       "\n",
       "    .dataframe tbody tr th {\n",
       "        vertical-align: top;\n",
       "    }\n",
       "\n",
       "    .dataframe thead th {\n",
       "        text-align: right;\n",
       "    }\n",
       "</style>\n",
       "<table border=\"1\" class=\"dataframe\">\n",
       "  <thead>\n",
       "    <tr style=\"text-align: right;\">\n",
       "      <th></th>\n",
       "      <th>id</th>\n",
       "      <th>object_name</th>\n",
       "      <th>chain</th>\n",
       "      <th>object_type</th>\n",
       "      <th>address</th>\n",
       "      <th>number</th>\n",
       "      <th>street</th>\n",
       "    </tr>\n",
       "  </thead>\n",
       "  <tbody>\n",
       "    <tr>\n",
       "      <td>0</td>\n",
       "      <td>151635</td>\n",
       "      <td>сметана</td>\n",
       "      <td>не_сеть</td>\n",
       "      <td>кафе</td>\n",
       "      <td>город москва, улица егора абакумова, дом 9</td>\n",
       "      <td>48</td>\n",
       "      <td>улица егора абакумова</td>\n",
       "    </tr>\n",
       "    <tr>\n",
       "      <td>1</td>\n",
       "      <td>77874</td>\n",
       "      <td>родник</td>\n",
       "      <td>не_сеть</td>\n",
       "      <td>кафе</td>\n",
       "      <td>город москва, улица талалихина, дом 2/1, корпус 1</td>\n",
       "      <td>35</td>\n",
       "      <td>улица талалихина</td>\n",
       "    </tr>\n",
       "    <tr>\n",
       "      <td>2</td>\n",
       "      <td>24309</td>\n",
       "      <td>кафе «академия»</td>\n",
       "      <td>не_сеть</td>\n",
       "      <td>кафе</td>\n",
       "      <td>город москва, абельмановская улица, дом 6</td>\n",
       "      <td>95</td>\n",
       "      <td>абельмановская улица</td>\n",
       "    </tr>\n",
       "    <tr>\n",
       "      <td>3</td>\n",
       "      <td>21894</td>\n",
       "      <td>пиццетория</td>\n",
       "      <td>сеть</td>\n",
       "      <td>кафе</td>\n",
       "      <td>город москва, абрамцевская улица, дом 1</td>\n",
       "      <td>40</td>\n",
       "      <td>абрамцевская улица</td>\n",
       "    </tr>\n",
       "    <tr>\n",
       "      <td>4</td>\n",
       "      <td>119365</td>\n",
       "      <td>кафе «вишневая метель»</td>\n",
       "      <td>не_сеть</td>\n",
       "      <td>кафе</td>\n",
       "      <td>город москва, абрамцевская улица, дом 9, корпус 1</td>\n",
       "      <td>50</td>\n",
       "      <td>абрамцевская улица</td>\n",
       "    </tr>\n",
       "  </tbody>\n",
       "</table>\n",
       "</div>"
      ],
      "text/plain": [
       "       id             object_name    chain object_type  \\\n",
       "0  151635                 сметана  не_сеть        кафе   \n",
       "1   77874                  родник  не_сеть        кафе   \n",
       "2   24309         кафе «академия»  не_сеть        кафе   \n",
       "3   21894              пиццетория     сеть        кафе   \n",
       "4  119365  кафе «вишневая метель»  не_сеть        кафе   \n",
       "\n",
       "                                             address  number  \\\n",
       "0         город москва, улица егора абакумова, дом 9      48   \n",
       "1  город москва, улица талалихина, дом 2/1, корпус 1      35   \n",
       "2          город москва, абельмановская улица, дом 6      95   \n",
       "3            город москва, абрамцевская улица, дом 1      40   \n",
       "4  город москва, абрамцевская улица, дом 9, корпус 1      50   \n",
       "\n",
       "                  street  \n",
       "0  улица егора абакумова  \n",
       "1       улица талалихина  \n",
       "2   абельмановская улица  \n",
       "3     абрамцевская улица  \n",
       "4     абрамцевская улица  "
      ]
     },
     "execution_count": 64,
     "metadata": {},
     "output_type": "execute_result"
    }
   ],
   "source": [
    "rest_data.head()"
   ]
  },
  {
   "cell_type": "markdown",
   "metadata": {},
   "source": [
    "Посмотрим на топ-10 улиц по количеству объектов общественного питания:\n",
    "\n"
   ]
  },
  {
   "cell_type": "code",
   "execution_count": 65,
   "metadata": {},
   "outputs": [
    {
     "data": {
      "image/png": "[encoded data removed]",
      "text/plain": [
       "<Figure size 1152x648 with 1 Axes>"
      ]
     },
     "metadata": {
      "needs_background": "light"
     },
     "output_type": "display_data"
    }
   ],
   "source": [
    "rest_data.pivot_table(index= 'street', values=\"id\", aggfunc = ('count')).sort_values(by = 'id', ascending = False).head(10).plot(kind = 'bar', figsize = (16,9))\n",
    "plt.title('График кол-ва заведений в разрезе улиц (топ-10)')\n",
    "plt.xlabel(\"Улица\")\n",
    "plt.ylabel(\"Кол-во\")\n",
    "plt.show()"
   ]
  },
  {
   "cell_type": "markdown",
   "metadata": {},
   "source": [
    "Для того, чтобы посмотреть в каких районах находятся эти улицы, воспользуемся внешним источником с данными по принадлежности улиц тем или иным районам:"
   ]
  },
  {
   "cell_type": "code",
   "execution_count": 66,
   "metadata": {},
   "outputs": [
    {
     "data": {
      "text/html": [
       "<div>\n",
       "<style scoped>\n",
       "    .dataframe tbody tr th:only-of-type {\n",
       "        vertical-align: middle;\n",
       "    }\n",
       "\n",
       "    .dataframe tbody tr th {\n",
       "        vertical-align: top;\n",
       "    }\n",
       "\n",
       "    .dataframe thead th {\n",
       "        text-align: right;\n",
       "    }\n",
       "</style>\n",
       "<table border=\"1\" class=\"dataframe\">\n",
       "  <thead>\n",
       "    <tr style=\"text-align: right;\">\n",
       "      <th></th>\n",
       "      <th>street</th>\n",
       "      <th>district</th>\n",
       "    </tr>\n",
       "  </thead>\n",
       "  <tbody>\n",
       "    <tr>\n",
       "      <td>0</td>\n",
       "      <td>1-й ирининский переулок</td>\n",
       "      <td>Басманный район</td>\n",
       "    </tr>\n",
       "    <tr>\n",
       "      <td>1</td>\n",
       "      <td>2-й ирининский переулок</td>\n",
       "      <td>Басманный район</td>\n",
       "    </tr>\n",
       "    <tr>\n",
       "      <td>2</td>\n",
       "      <td>3-й ирининский переулок</td>\n",
       "      <td>Басманный район</td>\n",
       "    </tr>\n",
       "    <tr>\n",
       "      <td>3</td>\n",
       "      <td>иркутская улица</td>\n",
       "      <td>район Гольяново</td>\n",
       "    </tr>\n",
       "    <tr>\n",
       "      <td>4</td>\n",
       "      <td>1-й иртышский проезд</td>\n",
       "      <td>район Гольяново</td>\n",
       "    </tr>\n",
       "  </tbody>\n",
       "</table>\n",
       "</div>"
      ],
      "text/plain": [
       "                    street         district\n",
       "0  1-й ирининский переулок  Басманный район\n",
       "1  2-й ирининский переулок  Басманный район\n",
       "2  3-й ирининский переулок  Басманный район\n",
       "3          иркутская улица  район Гольяново\n",
       "4     1-й иртышский проезд  район Гольяново"
      ]
     },
     "execution_count": 66,
     "metadata": {},
     "output_type": "execute_result"
    }
   ],
   "source": [
    "from io import BytesIO\n",
    "import requests\n",
    "spreadsheet_id = \"1bySIlTEQQd7dBWRW_IU_J8Vdm3k7DpeXmDXtz5wk2Pw\"\n",
    "file_name = 'https://docs.google.com/spreadsheets/d/{}/export?format=csv'.format(spreadsheet_id)\n",
    "r = requests.get(file_name)\n",
    "df = pd.read_csv(BytesIO(r.content))\n",
    "df['UM_NAMEF'] = df['UM_NAMEF'].str.lower()\n",
    "df.set_axis(['street', 'district'], axis = 'columns', inplace = True)\n",
    "df.head()"
   ]
  },
  {
   "cell_type": "markdown",
   "metadata": {},
   "source": [
    "Совместим с нашей таблицей:"
   ]
  },
  {
   "cell_type": "code",
   "execution_count": 67,
   "metadata": {},
   "outputs": [
    {
     "data": {
      "text/html": [
       "<div>\n",
       "<style scoped>\n",
       "    .dataframe tbody tr th:only-of-type {\n",
       "        vertical-align: middle;\n",
       "    }\n",
       "\n",
       "    .dataframe tbody tr th {\n",
       "        vertical-align: top;\n",
       "    }\n",
       "\n",
       "    .dataframe thead th {\n",
       "        text-align: right;\n",
       "    }\n",
       "</style>\n",
       "<table border=\"1\" class=\"dataframe\">\n",
       "  <thead>\n",
       "    <tr style=\"text-align: right;\">\n",
       "      <th></th>\n",
       "      <th>id</th>\n",
       "      <th>object_name</th>\n",
       "      <th>chain</th>\n",
       "      <th>object_type</th>\n",
       "      <th>address</th>\n",
       "      <th>number</th>\n",
       "      <th>street</th>\n",
       "      <th>district</th>\n",
       "    </tr>\n",
       "  </thead>\n",
       "  <tbody>\n",
       "    <tr>\n",
       "      <td>0</td>\n",
       "      <td>151635</td>\n",
       "      <td>сметана</td>\n",
       "      <td>не_сеть</td>\n",
       "      <td>кафе</td>\n",
       "      <td>город москва, улица егора абакумова, дом 9</td>\n",
       "      <td>48</td>\n",
       "      <td>улица егора абакумова</td>\n",
       "      <td>Ярославский район</td>\n",
       "    </tr>\n",
       "    <tr>\n",
       "      <td>1</td>\n",
       "      <td>77874</td>\n",
       "      <td>родник</td>\n",
       "      <td>не_сеть</td>\n",
       "      <td>кафе</td>\n",
       "      <td>город москва, улица талалихина, дом 2/1, корпус 1</td>\n",
       "      <td>35</td>\n",
       "      <td>улица талалихина</td>\n",
       "      <td>Таганский район</td>\n",
       "    </tr>\n",
       "    <tr>\n",
       "      <td>2</td>\n",
       "      <td>77874</td>\n",
       "      <td>родник</td>\n",
       "      <td>не_сеть</td>\n",
       "      <td>кафе</td>\n",
       "      <td>город москва, улица талалихина, дом 2/1, корпус 1</td>\n",
       "      <td>35</td>\n",
       "      <td>улица талалихина</td>\n",
       "      <td>район Южное Бутово</td>\n",
       "    </tr>\n",
       "    <tr>\n",
       "      <td>3</td>\n",
       "      <td>24309</td>\n",
       "      <td>кафе «академия»</td>\n",
       "      <td>не_сеть</td>\n",
       "      <td>кафе</td>\n",
       "      <td>город москва, абельмановская улица, дом 6</td>\n",
       "      <td>95</td>\n",
       "      <td>абельмановская улица</td>\n",
       "      <td>Таганский район</td>\n",
       "    </tr>\n",
       "    <tr>\n",
       "      <td>4</td>\n",
       "      <td>21894</td>\n",
       "      <td>пиццетория</td>\n",
       "      <td>сеть</td>\n",
       "      <td>кафе</td>\n",
       "      <td>город москва, абрамцевская улица, дом 1</td>\n",
       "      <td>40</td>\n",
       "      <td>абрамцевская улица</td>\n",
       "      <td>район Лианозово</td>\n",
       "    </tr>\n",
       "  </tbody>\n",
       "</table>\n",
       "</div>"
      ],
      "text/plain": [
       "       id      object_name    chain object_type  \\\n",
       "0  151635          сметана  не_сеть        кафе   \n",
       "1   77874           родник  не_сеть        кафе   \n",
       "2   77874           родник  не_сеть        кафе   \n",
       "3   24309  кафе «академия»  не_сеть        кафе   \n",
       "4   21894       пиццетория     сеть        кафе   \n",
       "\n",
       "                                             address  number  \\\n",
       "0         город москва, улица егора абакумова, дом 9      48   \n",
       "1  город москва, улица талалихина, дом 2/1, корпус 1      35   \n",
       "2  город москва, улица талалихина, дом 2/1, корпус 1      35   \n",
       "3          город москва, абельмановская улица, дом 6      95   \n",
       "4            город москва, абрамцевская улица, дом 1      40   \n",
       "\n",
       "                  street            district  \n",
       "0  улица егора абакумова   Ярославский район  \n",
       "1       улица талалихина     Таганский район  \n",
       "2       улица талалихина  район Южное Бутово  \n",
       "3   абельмановская улица     Таганский район  \n",
       "4     абрамцевская улица     район Лианозово  "
      ]
     },
     "execution_count": 67,
     "metadata": {},
     "output_type": "execute_result"
    }
   ],
   "source": [
    "district_merge = pd.merge( rest_data,  df, on='street', how='left')\n",
    "district_merge.head()"
   ]
  },
  {
   "cell_type": "markdown",
   "metadata": {},
   "source": [
    "Создадим на основе нашего \"рейтинга\" список и на основе него сделаем срез из вновь созданной таблицы:"
   ]
  },
  {
   "cell_type": "code",
   "execution_count": 68,
   "metadata": {},
   "outputs": [],
   "source": [
    "street_list_1 = rest_data.groupby(by ='street').count().sort_values(by = 'id', ascending = False).head(10).index"
   ]
  },
  {
   "cell_type": "code",
   "execution_count": 69,
   "metadata": {},
   "outputs": [
    {
     "data": {
      "text/plain": [
       "array(['Донской район', 'Гагаринский район', 'район Дорогомилово',\n",
       "       'район Москворечье-Сабурово', 'район Аэропорт', 'район Якиманка',\n",
       "       'Мещанский район', 'Академический район', nan, 'Пресненский район'],\n",
       "      dtype=object)"
      ]
     },
     "execution_count": 69,
     "metadata": {},
     "output_type": "execute_result"
    }
   ],
   "source": [
    "district_merge.query(\"street in @street_list_1\")['district'].unique()"
   ]
  },
  {
   "cell_type": "markdown",
   "metadata": {},
   "source": [
    "Видим список районов в которые входят наши улицы из топ-10."
   ]
  },
  {
   "cell_type": "markdown",
   "metadata": {},
   "source": [
    "Найдем общее число улиц с одним объектом общественного питания:\n"
   ]
  },
  {
   "cell_type": "code",
   "execution_count": 70,
   "metadata": {},
   "outputs": [
    {
     "data": {
      "text/plain": [
       "(555,)"
      ]
     },
     "execution_count": 70,
     "metadata": {},
     "output_type": "execute_result"
    }
   ],
   "source": [
    "rest_data.groupby(by = 'street').count().query(\"id == 1\")['id'].shape"
   ]
  },
  {
   "cell_type": "markdown",
   "metadata": {},
   "source": [
    "Всего 555 записей."
   ]
  },
  {
   "cell_type": "markdown",
   "metadata": {},
   "source": [
    "По аналогии посмотрим на районы по которым распределены это улицы:"
   ]
  },
  {
   "cell_type": "code",
   "execution_count": 71,
   "metadata": {},
   "outputs": [],
   "source": [
    "street_list_2 = rest_data.groupby(by ='street').count().query(\"id == 1\").index"
   ]
  },
  {
   "cell_type": "code",
   "execution_count": 72,
   "metadata": {},
   "outputs": [
    {
     "data": {
      "text/plain": [
       "array(['район Арбат', 'район Сокольники', 'район Аэропорт',\n",
       "       'район Хорошёво-Мнёвники', 'район Ростокино', 'Мещанский район',\n",
       "       'поселение Воскресенское', 'поселение Московский',\n",
       "       'поселение Новофедоровское', 'поселение Первомайское',\n",
       "       'район Беговой', 'Тверской район', 'район Марьина Роща',\n",
       "       'Можайский район', 'район Богородское', 'район Преображенское',\n",
       "       'район Дорогомилово', 'район Соколиная Гора', 'Басманный район',\n",
       "       'район Хамовники', 'поселение Кленовское', 'поселение Щербинка',\n",
       "       'район Кунцево', 'район Лефортово', 'Савёловский район',\n",
       "       'Донской район', 'район Котловка', 'район Замоскворечье',\n",
       "       'район Гольяново', 'район Фили-Давыдково', 'Нижегородский район',\n",
       "       'район Раменки', 'район Люблино', 'район Свиблово',\n",
       "       'Таганский район', 'Красносельский район', 'район Южное Бутово',\n",
       "       'район Якиманка', 'Рязанский район', 'район Покровское-Стрешнево',\n",
       "       'район Царицыно', 'район Внуково', 'поселение Кокошкино',\n",
       "       'поселение Марушкинское', 'поселение Троицк', nan,\n",
       "       'Головинский район', 'Лосиноостровский район',\n",
       "       'Останкинский район', 'район Коптево', 'Пресненский район',\n",
       "       'район Косино-Ухтомский', 'район Ивановское', 'Бутырский район',\n",
       "       'район Метрогородок', 'район Щукино', 'район Чертаново Южное',\n",
       "       'район Ясенево', 'район Зюзино', 'Алтуфьевский район',\n",
       "       'Тимирязевский район', 'Дмитровский район',\n",
       "       'Бескудниковский район', 'район Сокол', 'район Левобережный',\n",
       "       'Молжаниновский район', 'район Солнцево',\n",
       "       'поселение Краснопахорское', 'Нагорный район',\n",
       "       'район Южное Тушино', 'район Измайлово',\n",
       "       'район Восточное Измайлово', 'район Северное Измайлово',\n",
       "       'Хорошёвский район', 'район Матушкино', 'Даниловский район',\n",
       "       'район Новогиреево', 'поселение Рязановское',\n",
       "       'район Нагатино-Садовники', 'Южнопортовый район',\n",
       "       'Бабушкинский район', 'Ярославский район', 'Алексеевский район',\n",
       "       'район Выхино-Жулебино', 'район Текстильщики', 'район Марьино',\n",
       "       'район Печатники', 'район Северное Бутово', 'Войковский район',\n",
       "       'район Перово', 'район Северное Медведково', 'район Отрадное',\n",
       "       'район Восточный', 'район Капотня', 'район Кузьминки',\n",
       "       'район Тёплый Стан', 'район Черёмушки', 'район Коньково',\n",
       "       'район Митино', 'район Строгино', 'район Куркино', 'район Крюково',\n",
       "       'район Старое Крюково', 'район Савёлки',\n",
       "       'район Бирюлёво Восточное', 'район Москворечье-Сабурово',\n",
       "       'район Ново-Переделкино', 'район Северный', 'район Лианозово',\n",
       "       'поселение Внуковское', 'поселение Десеновское',\n",
       "       'поселение Киевский', 'поселение Михайлово-Ярцевское',\n",
       "       'поселение Роговское', 'район Западное Дегунино',\n",
       "       'район Бирюлёво Западное', 'район Марфино', 'Гагаринский район',\n",
       "       'район Чертаново Северное', 'район Очаково-Матвеевское',\n",
       "       'район Некрасовка', 'район Филёвский Парк'], dtype=object)"
      ]
     },
     "execution_count": 72,
     "metadata": {},
     "output_type": "execute_result"
    }
   ],
   "source": [
    "district_merge.query(\"street in @street_list_2\")['district'].unique()"
   ]
  },
  {
   "cell_type": "markdown",
   "metadata": {},
   "source": [
    "Картинка довольно \"размытая\". В списке присутствуют как центральные районы, так и \"спальные\"."
   ]
  },
  {
   "cell_type": "markdown",
   "metadata": {},
   "source": [
    "Посмотрим на распределение количества посадочных мест для улиц с большим количеством объектов общественного питания:"
   ]
  },
  {
   "cell_type": "code",
   "execution_count": 73,
   "metadata": {},
   "outputs": [
    {
     "data": {
      "image/png": "[encoded data removed]",
      "text/plain": [
       "<Figure size 1152x648 with 1 Axes>"
      ]
     },
     "metadata": {
      "needs_background": "light"
     },
     "output_type": "display_data"
    }
   ],
   "source": [
    "district_merge[district_merge['number'] < 200]['number'].hist(figsize = (16,9), bins = 20)\n",
    "plt.title('График кол-ва посадочных мест в разарезе улиц (с большим кол-вом объетов)')\n",
    "plt.xlabel(\"Кол-во посадочных\")\n",
    "plt.ylabel(\"Кол-во улиц\")\n",
    "plt.show()"
   ]
  },
  {
   "cell_type": "markdown",
   "metadata": {},
   "source": [
    "Видим, что в основном кол-во посадочных мест находится в диапазоне до 50 мест. Вновь присутствуют заведения с нулевым значения для этого признака. В остальном, можно говорить о наиболее распростарненном диапазоне кол-ва посадочных мест."
   ]
  },
  {
   "cell_type": "markdown",
   "metadata": {},
   "source": [
    "# Вывод"
   ]
  },
  {
   "cell_type": "markdown",
   "metadata": {},
   "source": [
    "Мы проанализировали данные с целью понять перспективность выживания предложенной концепции заведения в долгосрочной перспективе. А точнее сказать, с целью понять учет каких факторов поможет обеспечить устойчивое развитие заведений и ожидаемую отдачу на инвестиции.\n",
    "\n"
   ]
  },
  {
   "cell_type": "markdown",
   "metadata": {},
   "source": [
    "Согласно проведенному анализу наиболее распрораненным типом заведений является тип \"кафе\". Можно предположить, что высокая доля этих заведений в общей массе заведений говорит и о потенциально более емком рынке. С другой стороны тип \"ресторан\", который входит в тройку самых распространненых типов заведений, возможно более маржинален. Поэтмоу общей рекомендацией здесь было бы определить наиболее приоритетеный показатель для инвестора, оборот или прибыль, и отталкиваясь от этого выбирать тип заведения. Также здесь критичным является фаткор конкуренции. Для ресторанов здесь порог вхождения ниже. К сожалению представленные данные не позволяют сделать однозначный вывод отнсоительно этого параметра. Мы остановимся на кафе и будем далее исходить из этого."
   ]
  },
  {
   "cell_type": "markdown",
   "metadata": {},
   "source": [
    "Рекомендуемый дипазон кол-ва посадочных мест составляет от 40 до 50 мест на заведение. Здесь в принципе все нормально. По видимому этот объем сложился как наиболее оптимальный. "
   ]
  },
  {
   "cell_type": "markdown",
   "metadata": {},
   "source": [
    "В качестве расположения заведения среди прочих районов рекомендуется обратить внимание на следующие из списка:\n",
    "\n",
    "    'Донской район'\n",
    "    'Гагаринский район'\n",
    "    'район Дорогомилово',\n",
    "    'район Москворечье-Сабурово'\n",
    "    'район Аэропорт'\n",
    "    'район Якиманка'\n",
    "    'Мещанский район'\n",
    "    'Академический район'\n",
    "    'Пресненский район'"
   ]
  },
  {
   "cell_type": "markdown",
   "metadata": {},
   "source": [
    "Видимо здесь трафик наиболее плотный. И если мы делаем ставку на свою концепцию и верим в то, что наше ноу-хау завоюет свою долю, то лучше делать это именно здесь \n"
   ]
  },
  {
   "cell_type": "markdown",
   "metadata": {},
   "source": [
    "Само же ноу-хау является очень хорошим фактором для непосредственно развития заведений в сетевом формате. Т.к. за счет автоматизации части процессов с помощью роботов, снижается проблема масштабирумости, которая является ключевом при развитии общепита. Более того, анализ показал, что доля сетей составляет примерно 1\\5 от общей долю всех заведений. Что говорит о большом потенциале."
   ]
  },
  {
   "cell_type": "markdown",
   "metadata": {},
   "source": []
  },
  {
   "cell_type": "markdown",
   "metadata": {},
   "source": [
    "Презентация: https://docs.google.com/presentation/d/1djZht-FPzJV9684yuLIBib8qzTTUb3VFmOV4R8ReTJU/edit?usp=sharing"
   ]
  }
 ],
 "metadata": {
  "kernelspec": {
   "display_name": "Python 3",
   "language": "python",
   "name": "python3"
  },
  "language_info": {
   "codemirror_mode": {
    "name": "ipython",
    "version": 3
   },
   "file_extension": ".py",
   "mimetype": "text/x-python",
   "name": "python",
   "nbconvert_exporter": "python",
   "pygments_lexer": "ipython3",
   "version": "3.8.5"
  },
  "toc": {
   "base_numbering": 1,
   "nav_menu": {},
   "number_sections": true,
   "sideBar": true,
   "skip_h1_title": true,
   "title_cell": "Table of Contents",
   "title_sidebar": "Contents",
   "toc_cell": false,
   "toc_position": {},
   "toc_section_display": true,
   "toc_window_display": false
  }
 },
 "nbformat": 4,
 "nbformat_minor": 2
}
